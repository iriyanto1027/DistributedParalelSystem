{
 "cells": [
  {
   "cell_type": "markdown",
   "metadata": {},
   "source": [
    "# Tugas-1 Client"
   ]
  },
  {
   "cell_type": "markdown",
   "metadata": {},
   "source": [
    "## Latihan 1: Koneksi TCP"
   ]
  },
  {
   "cell_type": "code",
   "execution_count": null,
   "metadata": {},
   "outputs": [],
   "source": [
    "# Import library socket karena akan menggunakan IPC socket\n",
    "import socket\n",
    "\n",
    "# Iefinisikan tujuan IP server\n",
    "IP = \"localhost\"\n",
    "\n",
    "# Definisikan port dari server yang akan terhubung\n",
    "PORT = 12345\n",
    "\n",
    "# Definisikan ukuran buffer untuk mengirimkan pesan\n",
    "buffer_size = 1024\n",
    "\n",
    "# Definisikan pesan yang akan disampaikan\n",
    "pesan = 'Ini pesan dari client'\n",
    "\n",
    "# Buat socket TCP\n",
    "s = socket.socket(socket.AF_INET, socket.SOCK_STREAM)\n",
    "\n",
    "# Lakukan koneksi ke server dengan parameter IP dan Port yang telah didefinisikan\n",
    "s.connect((IP, PORT))\n",
    "\n",
    "# Kirim pesan ke server\n",
    "s.send(pesan.encode())\n",
    "\n",
    "# Terima pesan dari server\n",
    "pesan_server = s.recv(buffer_size)\n",
    "\n",
    "# Tampilkan pesan/reply dari server\n",
    "print(f'Pesan dari server: {pesan_server.decode()}')\n",
    "\n",
    "# Tutup koneksi\n",
    "s.close()"
   ]
  },
  {
   "cell_type": "markdown",
   "metadata": {},
   "source": [
    "## Latihan 2: Koneksi UDP"
   ]
  },
  {
   "cell_type": "code",
   "execution_count": null,
   "metadata": {},
   "outputs": [],
   "source": [
    "# Import library socket karena akan menggunakan IPC socket\n",
    "import socket\n",
    "\n",
    "# Definisikan target IP server yang akan dituju\n",
    "IP = \"localhost\"\n",
    "\n",
    "# definisikan target port number server yang akan dituju\n",
    "PORT = 12345\n",
    "\n",
    "# Print IP dan PORT server\n",
    "print(f'UDP target IP: {IP}')\n",
    "print(f'UDP target PORT: {PORT}')\n",
    "\n",
    "# Buat socket bertipe UDP\n",
    "s = socket.socket(socket.AF_INET, # Internet\n",
    "                     socket.SOCK_DGRAM) # UDP\n",
    "\n",
    "# lakukan loop 10 kali\n",
    "for x in range(10):\n",
    "    # Definisikan pesan yang akan dikirim\n",
    "    pesan = 'Pesan dari client'\n",
    "    print(f'Pesan yang dikirim: {pesan}')\n",
    "    \n",
    "    # Kirim pesan   \n",
    "    s.sendto(pesan.encode(), (IP, PORT))"
   ]
  },
  {
   "cell_type": "markdown",
   "metadata": {},
   "source": [
    "## Latihan 3: Upload file"
   ]
  },
  {
   "cell_type": "code",
   "execution_count": null,
   "metadata": {},
   "outputs": [],
   "source": [
    "# import library socket karena menggunakan IPC socket\n",
    "import socket\n",
    "\n",
    "# definisikan IP \n",
    "IP = \"localhost\"\n",
    "\n",
    "# definisikan port \n",
    "PORT = 12345\n",
    "\n",
    "# definisikan ukuran buffer\n",
    "buffer_size = 1024\n",
    "\n",
    "# buat socket bentuk TCP\n",
    "s = socket.socket(socket.AF_INET, socket.SOCK_STREAM)\n",
    "\n",
    "# lakukan koneksi ke server\n",
    "s.connect((IP, PORT))\n",
    "\n",
    "# buka file bernama \"file_diupload.txt bertipe byte\n",
    "# masih hard code, file harus ada dalam folder yang sama dengan script python\n",
    "f = open(\"file_diupload.txt\", \"rb\")\n",
    "\n",
    "try:\n",
    "    # baca file tersebut sebesar buffer \n",
    "    byte = f.read(buffer_size)\n",
    "\n",
    "    # selama tidak END OF FILE; pada pyhton EOF adalah b''\n",
    "    while byte != b'':\n",
    "        # kirim hasil pembacaan file\n",
    "        s.send(byte)\n",
    "        \n",
    "        # baca sisa file hingga EOF\n",
    "        byte = f.read(buffer_size)\n",
    "\n",
    "finally:\n",
    "    print (\"File berhasil dikirim\")\n",
    "    \n",
    "    # tutup file jika semua file telah  dibaca\n",
    "    f.close()\n",
    "\n",
    "# tutup koneksi setelah file terkirim\n",
    "s.close()"
   ]
  },
  {
   "cell_type": "markdown",
   "metadata": {},
   "source": [
    "## Latihan 4: Download file"
   ]
  },
  {
   "cell_type": "code",
   "execution_count": null,
   "metadata": {},
   "outputs": [],
   "source": [
    "#nomor 4 download file as client\n",
    "\n",
    "# import library socket karena menggunakan IPC socket\n",
    "import socket\n",
    "\n",
    "# definisikan IP server tujuan file akan diupload\n",
    "IP = 'localhost'\n",
    "\n",
    "# definisikan port number proses di server\n",
    "PORT = 12345\n",
    "\n",
    "# definisikan ukuran buffer untuk mengirim\n",
    "buffer_size = 1024\n",
    "\n",
    "# buat socket\n",
    "s = socket.socket(socket.AF_INET, socket.SOCK_STREAM)\n",
    "\n",
    "# lakukan koneksi ke server\n",
    "s.connect((IP, PORT))\n",
    "\n",
    "# buka file bernama \"hasil_download.txt bertipe byte\n",
    "# masih hard code, file harus ada dalam folder yang sama dengan script python\n",
    "f = open(\"hasil_download.txt\", \"w+b\")\n",
    "\n",
    "# loop forever\n",
    "while 1:\n",
    "    # terima pesan dari client\n",
    "    RECEIVED = s.recv(1024)\n",
    "    \n",
    "    # tulis pesan yang diterima dari client ke file kita (result.txt)\n",
    "    f.write(RECEIVED)\n",
    "    \n",
    "    # berhenti jika sudah tidak ada pesan yang dikirim\n",
    "    if not RECEIVED: \n",
    "        print(\"file berhasil di download\")\n",
    "        break\n",
    "    \n",
    "# tutup file_hasil_download.txt    \n",
    "f.close()\n",
    "\n",
    "#tutup socket\n",
    "s.close()"
   ]
  }
 ],
 "metadata": {
  "kernelspec": {
   "display_name": "Python 3",
   "language": "python",
   "name": "python3"
  },
  "language_info": {
   "codemirror_mode": {
    "name": "ipython",
    "version": 3
   },
   "file_extension": ".py",
   "mimetype": "text/x-python",
   "name": "python",
   "nbconvert_exporter": "python",
   "pygments_lexer": "ipython3",
   "version": "3.7.3"
  }
 },
 "nbformat": 4,
 "nbformat_minor": 2
}
