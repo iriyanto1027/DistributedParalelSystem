{
 "cells": [
  {
   "cell_type": "markdown",
   "metadata": {},
   "source": [
    "# Simple IPC"
   ]
  },
  {
   "cell_type": "markdown",
   "metadata": {},
   "source": [
    "## Server"
   ]
  },
  {
   "cell_type": "code",
   "execution_count": null,
   "metadata": {},
   "outputs": [],
   "source": [
    "# Import library yang dibutuhkan\n",
    "import socket\n",
    "\n",
    "# Deklarasikan IP dan PORT\n",
    "IP = \"localhost\"\n",
    "PORT = 12345\n",
    "\n",
    "# Assign library socket\n",
    "s = socket.socket()\n",
    "print(\"Socket berhasil dibuat\")\n",
    "\n",
    "# Bind IP dan PORT ke socket\n",
    "s.bind((IP, PORT))\n",
    "pesan = f\"socket bind ke alamat {IP} dan port {PORT}\"\n",
    "print(pesan)\n",
    "\n",
    "# Panggil method listen() agar socket siap untuk menerima request\n",
    "s.listen(1)\n",
    "print(\"Socket dalam state mendengarkan\")\n",
    "\n",
    "while True:\n",
    "    # Tangkap koneksi yang terhubung\n",
    "    c, addr = s.accept()\n",
    "    print('Mendapat koneksi dari', addr)\n",
    "    \n",
    "    # Siapkan pesan untuk dikirim ke client yang terhubung\n",
    "    pesan = f\"halo {addr}, Anda telah berhasil terkoneksi ke server\"\n",
    "    \n",
    "    # Encode pesan sebelum dikirim dan kirim pesan ke client\n",
    "    c.send(pesan.encode())\n",
    "    \n",
    "    # Tutup koneksi\n",
    "    c.close()"
   ]
  },
  {
   "cell_type": "markdown",
   "metadata": {},
   "source": [
    "## Client"
   ]
  },
  {
   "cell_type": "code",
   "execution_count": null,
   "metadata": {},
   "outputs": [],
   "source": [
    "# Import library yang dibutuhkan\n",
    "import socket\n",
    "\n",
    "# Deklarasikan IP dan PORT\n",
    "IP = \"localhost\" \n",
    "PORT = 12345\n",
    "\n",
    "# Assign library socket\n",
    "s = socket.socket()\n",
    "\n",
    "# Connect ke IP dan PORT server\n",
    "s.connect((IP, PORT))\n",
    "\n",
    "# Print pesan yang dikirim server\n",
    "print(s.recv(1024).decode())\n",
    "\n",
    "# Tutup koneksi\n",
    "s.close()"
   ]
  }
 ],
 "metadata": {
  "kernelspec": {
   "display_name": "Python 3",
   "language": "python",
   "name": "python3"
  },
  "language_info": {
   "codemirror_mode": {
    "name": "ipython",
    "version": 3
   },
   "file_extension": ".py",
   "mimetype": "text/x-python",
   "name": "python",
   "nbconvert_exporter": "python",
   "pygments_lexer": "ipython3",
   "version": "3.7.3"
  }
 },
 "nbformat": 4,
 "nbformat_minor": 2
}
