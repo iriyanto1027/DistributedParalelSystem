{
 "cells": [
  {
   "cell_type": "markdown",
   "metadata": {},
   "source": [
    "# Client"
   ]
  },
  {
   "cell_type": "code",
   "execution_count": null,
   "metadata": {},
   "outputs": [],
   "source": [
    "# Import xmlrpc untuk client\n",
    "import xmlrpc.client\n",
    "\n",
    "# import library untuk read CSV\n",
    "import pandas as pd\n",
    "\n",
    "# import library untuk random\n",
    "import numpy as np\n",
    "\n",
    "# import library untuk date\n",
    "import datetime\n",
    "\n",
    "# import library untuk warning\n",
    "import warnings\n",
    "warnings.simplefilter(\"ignore\", DeprecationWarning)"
   ]
  },
  {
   "cell_type": "code",
   "execution_count": null,
   "metadata": {},
   "outputs": [],
   "source": [
    "# Definisikan IP address dan port\n",
    "IP = 'localhost'\n",
    "PORT = 8080\n",
    "\n",
    "# Buat sebuah proxy untuk mengakses server\n",
    "sp = xmlrpc.client.ServerProxy(f'http://{IP}:{PORT}')\n",
    "\n",
    "# Print daftar method yang tersedia di server\n",
    "print(sp.system.listMethods())"
   ]
  },
  {
   "cell_type": "code",
   "execution_count": null,
   "metadata": {},
   "outputs": [],
   "source": [
    "# Definisikan username dan password\n",
    "USERNAME = 'admin'\n",
    "PASSWORD = 'admin'"
   ]
  },
  {
   "cell_type": "markdown",
   "metadata": {},
   "source": [
    "### Fungsi Client"
   ]
  },
  {
   "cell_type": "code",
   "execution_count": null,
   "metadata": {},
   "outputs": [],
   "source": [
    "# Fungsi untuk melihat jadwal\n",
    "def get_movie_schedule():\n",
    "    data = sp.movie_schedule()\n",
    "\n",
    "    return data"
   ]
  },
  {
   "cell_type": "code",
   "execution_count": null,
   "metadata": {},
   "outputs": [],
   "source": [
    "# Fungsi untuk membeli tiket\n",
    "def buy_ticket(scheduleId=-1, seat_num=-1):\n",
    "    return sp.buy_ticket(scheduleId, seat_num)"
   ]
  },
  {
   "cell_type": "markdown",
   "metadata": {},
   "source": [
    "### Fungsi Admin"
   ]
  },
  {
   "cell_type": "code",
   "execution_count": null,
   "metadata": {},
   "outputs": [],
   "source": [
    "# Fungsi admin untuk melihat jadwal\n",
    "def admin_get_movie_schedule(user='', password=''):\n",
    "    data = sp.admin_movie_schedule(user,password)\n",
    "    \n",
    "    if (type(data) != str):\n",
    "        return pd.DataFrame(data=data, columns=['date', 'movieId', 'scheduleId', 'seat', 'theaterId', 'time'])\n",
    "    else:\n",
    "        return data\n",
    "    \n",
    "# Fungsi admin untuk melihat movies\n",
    "def admin_get_movies(user='', password=''):\n",
    "    data = sp.admin_movies(user,password)\n",
    "    \n",
    "    if (type(data) != str):\n",
    "        return pd.DataFrame(data=data, columns=['movieId', 'title', 'genres'])\n",
    "    else:\n",
    "        return data\n",
    "    \n",
    "# Fungsi admin untuk melihat jadwal\n",
    "def admin_get_theaters(user='', password=''):\n",
    "    data = sp.admin_theaters(user,password)\n",
    "    \n",
    "    if (type(data) != str):\n",
    "        return pd.DataFrame(data=data, columns=['name', 'price', 'theaterId'])\n",
    "    else:\n",
    "        return data"
   ]
  },
  {
   "cell_type": "code",
   "execution_count": null,
   "metadata": {},
   "outputs": [],
   "source": [
    "# Fungsi admin untuk menambahkan jadwal\n",
    "def admin_add_schedule(request, user='', password=''):\n",
    "    return sp.admin_add_schedule(request, user, password)"
   ]
  },
  {
   "cell_type": "code",
   "execution_count": null,
   "metadata": {},
   "outputs": [],
   "source": [
    "# Fungsi admin untuk edit jadwal\n",
    "def admin_edit_schedule(request, user='', password=''):\n",
    "    return sp.admin_edit_schedule(request, user, password)"
   ]
  },
  {
   "cell_type": "code",
   "execution_count": null,
   "metadata": {},
   "outputs": [],
   "source": [
    "# Fungsi admin untuk hapus jadwal\n",
    "def admin_delete_schedule(scheduleId, user='', password=''):\n",
    "    return sp.admin_del_schedule(scheduleId, user, password)"
   ]
  },
  {
   "cell_type": "code",
   "execution_count": null,
   "metadata": {},
   "outputs": [],
   "source": [
    "# Fungsi admin untuk mengedit harga tiket\n",
    "def admin_change_price(theaterId, new_price, user='', password=''):\n",
    "    return sp.admin_change_price(theaterId, new_price, user, password)"
   ]
  },
  {
   "cell_type": "markdown",
   "metadata": {},
   "source": [
    "## Main Activities"
   ]
  },
  {
   "cell_type": "markdown",
   "metadata": {},
   "source": [
    "customer"
   ]
  },
  {
   "cell_type": "code",
   "execution_count": null,
   "metadata": {
    "scrolled": true
   },
   "outputs": [],
   "source": [
    "# Untuk mendapatkan jadwal tayang\n",
    "get_movie_schedule()"
   ]
  },
  {
   "cell_type": "code",
   "execution_count": null,
   "metadata": {},
   "outputs": [],
   "source": [
    "# Untuk membeli tiket (scheduleID, seat_number)\n",
    "buy_ticket(1, 2)"
   ]
  },
  {
   "cell_type": "markdown",
   "metadata": {},
   "source": [
    "Admin"
   ]
  },
  {
   "cell_type": "code",
   "execution_count": null,
   "metadata": {},
   "outputs": [],
   "source": [
    "# Untuk mendapatkan daftar film untuk admin\n",
    "admin_get_movies(USERNAME, PASSWORD)"
   ]
  },
  {
   "cell_type": "code",
   "execution_count": null,
   "metadata": {},
   "outputs": [],
   "source": [
    "# Untuk mendapatkan daftar ruang bioskop untuk admin\n",
    "admin_get_theaters(USERNAME, PASSWORD)"
   ]
  },
  {
   "cell_type": "code",
   "execution_count": null,
   "metadata": {},
   "outputs": [],
   "source": [
    "# Untuk mendapatkan jadwal tayang untuk admin\n",
    "admin_get_movie_schedule(USERNAME, PASSWORD)"
   ]
  },
  {
   "cell_type": "code",
   "execution_count": null,
   "metadata": {},
   "outputs": [],
   "source": [
    "# Untuk menambahkan jadwal baru\n",
    "data = {\n",
    "    'movieId' : 2,\n",
    "    'theaterId' : 1,\n",
    "    'date' : '10-4-2020',\n",
    "    'time' : '13:00'\n",
    "}\n",
    "\n",
    "admin_add_schedule(data, USERNAME, PASSWORD)"
   ]
  },
  {
   "cell_type": "code",
   "execution_count": null,
   "metadata": {},
   "outputs": [],
   "source": [
    "# Untuk mengedit jadwal baru\n",
    "data = {\n",
    "    'scheduleId' : 3,\n",
    "    'movieId' : 1,\n",
    "    'theaterId' : 1,\n",
    "    'date' : '12-12-2012',\n",
    "    'time' : '12:12'\n",
    "}\n",
    "\n",
    "admin_edit_schedule(data, USERNAME, PASSWORD)"
   ]
  },
  {
   "cell_type": "code",
   "execution_count": null,
   "metadata": {},
   "outputs": [],
   "source": [
    "# Untuk delete jadwal (scheduleId)\n",
    "admin_delete_schedule(1, USERNAME, PASSWORD)"
   ]
  },
  {
   "cell_type": "code",
   "execution_count": null,
   "metadata": {},
   "outputs": [],
   "source": [
    "# Untuk mengubah harga tiket di theater (theaterID, new_price)\n",
    "admin_change_price(1, 40000, USERNAME, PASSWORD)"
   ]
  }
 ],
 "metadata": {
  "kernelspec": {
   "display_name": "Python 3",
   "language": "python",
   "name": "python3"
  },
  "language_info": {
   "codemirror_mode": {
    "name": "ipython",
    "version": 3
   },
   "file_extension": ".py",
   "mimetype": "text/x-python",
   "name": "python",
   "nbconvert_exporter": "python",
   "pygments_lexer": "ipython3",
   "version": "3.7.3"
  }
 },
 "nbformat": 4,
 "nbformat_minor": 2
}
