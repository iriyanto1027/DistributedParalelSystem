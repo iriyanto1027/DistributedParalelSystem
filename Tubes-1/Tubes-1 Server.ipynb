{
 "cells": [
  {
   "cell_type": "markdown",
   "metadata": {},
   "source": [
    "# Server"
   ]
  },
  {
   "cell_type": "code",
   "execution_count": null,
   "metadata": {},
   "outputs": [],
   "source": [
    "# import library untuk SimpleXMLRPCServer\n",
    "from xmlrpc.server import SimpleXMLRPCServer\n",
    "\n",
    "# import library untuk SimpleXMLRPCRequestHandler\n",
    "from xmlrpc.server import SimpleXMLRPCRequestHandler\n",
    "\n",
    "# import library untuk threading locking\n",
    "import threading\n",
    "\n",
    "# import library untuk read CSV\n",
    "import pandas as pd\n",
    "\n",
    "# import library untuk random\n",
    "import numpy as np\n",
    "\n",
    "# import library untuk date\n",
    "import datetime"
   ]
  },
  {
   "cell_type": "code",
   "execution_count": null,
   "metadata": {},
   "outputs": [],
   "source": [
    "# Definisikan IP address dan port\n",
    "IP = 'localhost'\n",
    "PORT = 8080\n",
    "\n",
    "# Batasi path (folder) yang bisa diakses\n",
    "class RequestHandler(SimpleXMLRPCRequestHandler):\n",
    "    rpc_paths = ('/RPC2',)"
   ]
  },
  {
   "cell_type": "markdown",
   "metadata": {},
   "source": [
    "## Data struktur untuk movie dan theater"
   ]
  },
  {
   "cell_type": "code",
   "execution_count": null,
   "metadata": {},
   "outputs": [],
   "source": [
    "df = pd.read_csv(\"movies.csv\")"
   ]
  },
  {
   "cell_type": "code",
   "execution_count": null,
   "metadata": {},
   "outputs": [],
   "source": [
    "movies = df.head()\n",
    "movies"
   ]
  },
  {
   "cell_type": "code",
   "execution_count": null,
   "metadata": {},
   "outputs": [],
   "source": [
    "theaters = [\n",
    "    {\n",
    "        'theaterId' : 1,\n",
    "        'name' : 'Theater 1',\n",
    "        'price' : 30000\n",
    "    },\n",
    "    {\n",
    "        'theaterId' : 2,\n",
    "        'name' : 'Theater 2',\n",
    "        'price' : 60000\n",
    "    }\n",
    "]\n",
    "\n",
    "theaters = pd.DataFrame(data=theaters)\n",
    "theaters"
   ]
  },
  {
   "cell_type": "markdown",
   "metadata": {},
   "source": [
    "## Data struktur untuk seat dan schedule"
   ]
  },
  {
   "cell_type": "code",
   "execution_count": null,
   "metadata": {
    "scrolled": true
   },
   "outputs": [],
   "source": [
    "schedules = [\n",
    "    {\n",
    "        'scheduleId' : 1,\n",
    "        'movieId' : 1,\n",
    "        'theaterId' : 1,\n",
    "        'seat' : np.random.randint(2, size=10).tolist(),\n",
    "        'date' : datetime.datetime(2020, 3, 12, 10, 0).strftime(\"%d %B %Y\"),\n",
    "        'time' : datetime.datetime(2020, 3, 12, 10, 0).strftime(\"%H:%M\")\n",
    "    },\n",
    "    {\n",
    "        'scheduleId' : 2,\n",
    "        'movieId' : 2,\n",
    "        'theaterId' : 2,\n",
    "        'seat' : np.random.randint(2, size=10).tolist(),\n",
    "        'date' : datetime.datetime(2020, 3, 12, 10, 0).strftime(\"%d %B %Y\"),\n",
    "        'time' : datetime.datetime(2020, 3, 12, 10, 0).strftime(\"%H:%M\")\n",
    "    }\n",
    "]\n",
    "\n",
    "schedules = pd.DataFrame(data=schedules)\n",
    "schedules"
   ]
  },
  {
   "cell_type": "markdown",
   "metadata": {},
   "source": [
    "## Buat server"
   ]
  },
  {
   "cell_type": "code",
   "execution_count": null,
   "metadata": {},
   "outputs": [],
   "source": [
    "with SimpleXMLRPCServer((IP, PORT),\n",
    "                        requestHandler=RequestHandler) as server:\n",
    "    server.register_introspection_functions()\n",
    "    \n",
    "    # assign threading.Lock() karena ada fungsi yang critical section yang akan menyebabkan race condition\n",
    "    lock = threading.Lock()\n",
    "    \n",
    "    # Fungsi untuk melihat jadwal film saat ini\n",
    "    def movie_schedule():\n",
    "        # lock terlebih dahulu karena critical section dibawah\n",
    "        lock.acquire()\n",
    "        \n",
    "        data_schedule = []\n",
    "        for index, row in schedules.iterrows():\n",
    "            dat = {\n",
    "                'id schedule' : row['scheduleId'],\n",
    "                'title' : movies[movies['movieId'] == row['movieId']]['title'][index],\n",
    "                'theater' : theaters[theaters['theaterId'] == row['theaterId']]['name'][index],\n",
    "                'date' : row['date'],\n",
    "                'time' : row['time'],\n",
    "                'seat' : row['seat']\n",
    "            }\n",
    "            data_schedule.append(dat)\n",
    "        \n",
    "        # lock dibuka karena critical section sudah selesai\n",
    "        lock.release()\n",
    "        \n",
    "        return data_schedule\n",
    "    \n",
    "    # Registrasi fungsi movie_schedule() ke server\n",
    "    server.register_function(movie_schedule)\n",
    "    \n",
    "    # Fungsi untuk membeli tiket bioskop\n",
    "    def buy_ticket(scheduleId=-1, seat_num=-1):\n",
    "               \n",
    "        message = ''\n",
    "        \n",
    "        if (seat_num < 1 or seat_num > 10):\n",
    "            return 'seat_num range between 1 and 10'\n",
    "        \n",
    "        seat_num -= 1\n",
    "        \n",
    "        data = schedules[schedules['scheduleId'] == scheduleId]\n",
    "        if (len(data) == 0):\n",
    "            return 'Schedule not found'\n",
    "        \n",
    "        # lock terlebih dahulu karena critical section dibawah\n",
    "        lock.acquire()\n",
    "        \n",
    "        seat = data['seat'].tolist()[0]\n",
    "        if (seat[seat_num] == 0):\n",
    "            seat[seat_num] = 1\n",
    "            schedules.at[data.index.values[0], 'seat'] = seat\n",
    "            \n",
    "            message = 'Thank you for buying ticket'\n",
    "        else:\n",
    "            message = 'Seat has been taken'\n",
    "        \n",
    "        # lock dibuka karena critical section sudah selesai\n",
    "        lock.release()\n",
    "        \n",
    "        return message\n",
    "        \n",
    "    # Registrasi fungsi buy_ticket(scheduleId=-1, seat_num=-1) ke server\n",
    "    server.register_function(buy_ticket)\n",
    "    \n",
    "    # Fungsi admin untuk melihat jadwal film saat ini \n",
    "    def admin_movie_schedule(user, password):\n",
    "        if (user == 'admin' and password == 'admin'):\n",
    "            return schedules.values.tolist()\n",
    "        else:\n",
    "            return 'username or password is wrong'\n",
    "        \n",
    "    # Registrasi fungsi admin_movie_schedule(user, password) ke server\n",
    "    server.register_function(admin_movie_schedule)\n",
    "    \n",
    "    print (\"Server no voting ga starto desuyooo....\")\n",
    "    # Server START\n",
    "    server.serve_forever()"
   ]
  }
 ],
 "metadata": {
  "kernelspec": {
   "display_name": "Python 3",
   "language": "python",
   "name": "python3"
  },
  "language_info": {
   "codemirror_mode": {
    "name": "ipython",
    "version": 3
   },
   "file_extension": ".py",
   "mimetype": "text/x-python",
   "name": "python",
   "nbconvert_exporter": "python",
   "pygments_lexer": "ipython3",
   "version": "3.7.3"
  }
 },
 "nbformat": 4,
 "nbformat_minor": 2
}
