{
 "cells": [
  {
   "cell_type": "markdown",
   "metadata": {},
   "source": [
    "# Tugas-2"
   ]
  },
  {
   "cell_type": "markdown",
   "metadata": {},
   "source": [
    "## 1.Web Server"
   ]
  },
  {
   "cell_type": "code",
   "execution_count": null,
   "metadata": {},
   "outputs": [],
   "source": [
    "# import library socket\n",
    "import socket as sc\n",
    "\n",
    "# Definisikan IP address\n",
    "HOST = \"192.168.1.4\"\n",
    "# Port HTTP adalah 80\n",
    "PORT = 80\n",
    "\n",
    "# Definisikan socket dengan tipe TCP\n",
    "s = sc.socket(sc.AF_INET, sc.SOCK_STREAM)\n",
    "\n",
    "# Lakukan binding pada socket \n",
    "s.bind((HOST, PORT))\n",
    "\n",
    "# Socket listen pada IP dan Port yang sudah didefinisikan\n",
    "s.listen()\n",
    "\n",
    "# Tampilkan bahwa server sudah siap melayani request\n",
    "print(\"Server sudah berjalan dan siap melayani pada: {}:{}\".format(HOST, PORT))\n",
    "\n",
    "# Loop forever\n",
    "while True:\n",
    "    # Socket menerima request\n",
    "    conn, addr = s.accept()\n",
    "    \n",
    "    # Socket menerima data\n",
    "    RECEIVED = conn.recv(1024)\n",
    "    \n",
    "    # Print data hasil koneksi\n",
    "    print(RECEIVED)\n",
    "    \n",
    "    # Buat respone HTTP untuk client\n",
    "    http_response = \"\"\"\\HTTP/1.1 200 OK\n",
    "\n",
    "<html>\n",
    "<body style=\"background-color:powderblue;\">\n",
    "\n",
    "<h1 style=\"text-align:center;\">Centered Heading</h1>\n",
    "<p style=\"text-align:center;\">Centered paragraph.</p>\n",
    "\n",
    "<p>I am normal</p>\n",
    "<p style=\"color:red;\">I am red</p>\n",
    "<p style=\"color:blue;\">I am blue</p>\n",
    "<p style=\"font-size:50px;\">I am big</p>\n",
    "\n",
    "</body>\n",
    "</html>\n",
    "\"\"\"\n",
    "    # Kirim response kepada client dengan sendall() jangan lupa diencode response dengan utf-8 \n",
    "    conn.sendall(http_response.encode('utf-8'))\n",
    "    \n",
    "    # Tutup koneksi\n",
    "    conn.close()\n"
   ]
  },
  {
   "cell_type": "markdown",
   "metadata": {},
   "source": [
    "## 2.Sistem Voting"
   ]
  },
  {
   "cell_type": "markdown",
   "metadata": {},
   "source": [
    "### 2.1.Server"
   ]
  },
  {
   "cell_type": "code",
   "execution_count": null,
   "metadata": {},
   "outputs": [],
   "source": [
    "# Import library SimpleXMLRPCServer\n",
    "from xmlrpc.server import SimpleXMLRPCServer\n",
    "\n",
    "# import library SimpleXMLRPCRequestHandler\n",
    "from xmlrpc.server import SimpleXMLRPCRequestHandler\n",
    "\n",
    "# Definisikan IP address dan port\n",
    "IP = \"192.168.1.4\"\n",
    "PORT = 8080\n",
    "\n",
    "# Batasi path (folder) yang bisa diakses\n",
    "class RequestHandler(SimpleXMLRPCRequestHandler):\n",
    "    rpc_paths = ('/RPC2',)\n",
    "    \n",
    "# Buat server\n",
    "with SimpleXMLRPCServer((IP, PORT),\n",
    "                        requestHandler=RequestHandler) as server:\n",
    "    server.register_introspection_functions()\n",
    "\n",
    "    # Data struktur dictionary kandidat voting\n",
    "    candidate = {    \n",
    "        \"Burhan\": 0,\n",
    "        \"Jamal\": 0,\n",
    "        \"Reinhard\": 0\n",
    "    }\n",
    "    \n",
    "    # Fungsi untuk vote kandidat dengan input nama kandidatnya\n",
    "    def vote_add(name: str) -> str:\n",
    "        # jika kandidat ada dalam dictionary maka tambahkan nilai votenya\n",
    "        if name in candidate:\n",
    "            candidate[name] += 1\n",
    "            pesan = \"Hatur nuhun, voting untuk {} telah diterima dengan selamat sentosa\".format(name)\n",
    "        else:\n",
    "            pesan =  \"Kandidat dengan nama {} tidak terdaftar\".format(name)\n",
    "        return pesan\n",
    "    \n",
    "    # Registrasi fungsi vote_add() ke server\n",
    "    server.register_function(vote_add, 'vote')\n",
    "\n",
    "    # Fungsi untuk menampilkan hasil vote dari semua kandidat\n",
    "    def vote_result() -> str:        \n",
    "        # Hitung total vote\n",
    "        total_vote = sum([x for x in candidate.values()])\n",
    "        \n",
    "        persentase = 'Hasil voting = '\n",
    "        \n",
    "        # Jika belum ada voting\n",
    "        if total_vote == 0:\n",
    "            return 'Belum ada voting yang dilakukan'\n",
    "        \n",
    "        # hitung hasil persentase masing-masing kandidat\n",
    "        for i in candidate:\n",
    "            persentase += i+ ' ' + str(candidate[i]/total_vote*100)+'%, '\n",
    "            \n",
    "        return persentase\n",
    "        \n",
    "    # Registrasi fungsi vote_result() ke server\n",
    "    server.register_function(vote_result)\n",
    "\n",
    "    print (\"Server no voting ga starto desuyooo....\")\n",
    "    # Server START\n",
    "    server.serve_forever()"
   ]
  },
  {
   "cell_type": "markdown",
   "metadata": {},
   "source": [
    "### 2.2.Client"
   ]
  },
  {
   "cell_type": "code",
   "execution_count": 13,
   "metadata": {},
   "outputs": [
    {
     "name": "stdout",
     "output_type": "stream",
     "text": [
      "['system.listMethods', 'system.methodHelp', 'system.methodSignature', 'vote', 'vote_result']\n"
     ]
    }
   ],
   "source": [
    "# Import xmlrpc untuk client\n",
    "import xmlrpc.client\n",
    "\n",
    "# Definisikan IP address dan port\n",
    "IP = \"192.168.1.4\"\n",
    "PORT = 8080\n",
    "\n",
    "# Buat sebuah proxy untuk mengakses server\n",
    "sp = xmlrpc.client.ServerProxy(f'http://{IP}:{PORT}')\n",
    "\n",
    "# Print daftar method yang tersedia di server\n",
    "print(sp.system.listMethods())"
   ]
  },
  {
   "cell_type": "code",
   "execution_count": 14,
   "metadata": {},
   "outputs": [
    {
     "name": "stdout",
     "output_type": "stream",
     "text": [
      "Burhan 50.0%, Jamal 25.0%, Reinhard 25.0%, \n"
     ]
    }
   ],
   "source": [
    "# Print hasil voting\n",
    "print(sp.vote_result())"
   ]
  },
  {
   "cell_type": "code",
   "execution_count": 15,
   "metadata": {},
   "outputs": [
    {
     "name": "stdout",
     "output_type": "stream",
     "text": [
      "Hatur nuhun, voting untuk Burhan telah diterima dengan selamat sentosa\n",
      "Hatur nuhun, voting untuk Jamal telah diterima dengan selamat sentosa\n",
      "Hatur nuhun, voting untuk Reinhard telah diterima dengan selamat sentosa\n",
      "Hatur nuhun, voting untuk Burhan telah diterima dengan selamat sentosa\n",
      "Kandidat dengan nama Taufik tidak terdaftar\n",
      "Burhan 50.0%, Jamal 25.0%, Reinhard 25.0%, \n"
     ]
    }
   ],
   "source": [
    "# Voting\n",
    "print(sp.vote('Burhan'))\n",
    "print(sp.vote('Jamal'))\n",
    "print(sp.vote('Reinhard'))\n",
    "print(sp.vote('Burhan'))\n",
    "\n",
    "# Voting yang salah\n",
    "print(sp.vote('Taufik'))\n",
    "\n",
    "# Print hasil voting\n",
    "print(sp.vote_result())"
   ]
  },
  {
   "cell_type": "markdown",
   "metadata": {},
   "source": [
    "# 3."
   ]
  },
  {
   "cell_type": "code",
   "execution_count": null,
   "metadata": {},
   "outputs": [],
   "source": []
  }
 ],
 "metadata": {
  "kernelspec": {
   "display_name": "Python 3",
   "language": "python",
   "name": "python3"
  },
  "language_info": {
   "codemirror_mode": {
    "name": "ipython",
    "version": 3
   },
   "file_extension": ".py",
   "mimetype": "text/x-python",
   "name": "python",
   "nbconvert_exporter": "python",
   "pygments_lexer": "ipython3",
   "version": "3.7.4"
  }
 },
 "nbformat": 4,
 "nbformat_minor": 2
}
