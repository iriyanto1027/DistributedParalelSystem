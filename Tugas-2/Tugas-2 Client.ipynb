{
 "cells": [
  {
   "cell_type": "markdown",
   "metadata": {},
   "source": [
    "# Tugas-2 Client"
   ]
  },
  {
   "cell_type": "markdown",
   "metadata": {},
   "source": [
    "## Sistem Voting"
   ]
  },
  {
   "cell_type": "code",
   "execution_count": null,
   "metadata": {},
   "outputs": [],
   "source": [
    "# Import xmlrpc untuk client\n",
    "import xmlrpc.client\n",
    "\n",
    "# Definisikan IP address dan port\n",
    "IP = 'localhost'\n",
    "PORT = 8080\n",
    "\n",
    "# Buat sebuah proxy untuk mengakses server\n",
    "sp = xmlrpc.client.ServerProxy(f'http://{IP}:{PORT}')\n",
    "\n",
    "# Print daftar method yang tersedia di server\n",
    "print(sp.system.listMethods())"
   ]
  },
  {
   "cell_type": "code",
   "execution_count": null,
   "metadata": {},
   "outputs": [],
   "source": [
    "# Print hasil voting\n",
    "print(sp.vote_result())"
   ]
  },
  {
   "cell_type": "code",
   "execution_count": null,
   "metadata": {},
   "outputs": [],
   "source": [
    "# Voting\n",
    "print(sp.vote('Burhan'))\n",
    "print(sp.vote('Jamal'))\n",
    "print(sp.vote('Reinhard'))\n",
    "print(sp.vote('Burhan'))\n",
    "\n",
    "# Voting yang salah\n",
    "print(sp.vote('Taufik'))\n",
    "\n",
    "# Print hasil voting\n",
    "print(sp.vote_result())"
   ]
  }
 ],
 "metadata": {
  "kernelspec": {
   "display_name": "Python 3",
   "language": "python",
   "name": "python3"
  },
  "language_info": {
   "codemirror_mode": {
    "name": "ipython",
    "version": 3
   },
   "file_extension": ".py",
   "mimetype": "text/x-python",
   "name": "python",
   "nbconvert_exporter": "python",
   "pygments_lexer": "ipython3",
   "version": "3.7.3"
  }
 },
 "nbformat": 4,
 "nbformat_minor": 2
}
