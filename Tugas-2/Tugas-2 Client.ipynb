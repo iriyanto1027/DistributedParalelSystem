{
 "cells": [
  {
   "cell_type": "markdown",
   "metadata": {},
   "source": [
    "# Tugas-2 Client"
   ]
  },
  {
   "cell_type": "markdown",
   "metadata": {},
   "source": [
    "## Sistem Voting"
   ]
  },
  {
   "cell_type": "code",
   "execution_count": null,
   "metadata": {},
   "outputs": [],
   "source": [
    "# Import xmlrpc untuk client\n",
    "import xmlrpc.client\n",
    "\n",
    "# Definisikan IP address dan port\n",
    "IP = 'localhost'\n",
    "PORT = 8080\n",
    "\n",
    "# Buat sebuah proxy untuk mengakses server\n",
    "sp = xmlrpc.client.ServerProxy(f'http://{IP}:{PORT}')\n",
    "\n",
    "# Print daftar method yang tersedia di server\n",
    "print(sp.system.listMethods())"
   ]
  },
  {
   "cell_type": "code",
   "execution_count": null,
   "metadata": {},
   "outputs": [],
   "source": [
    "# Print hasil voting\n",
    "print(sp.querry())"
   ]
  },
  {
   "cell_type": "code",
   "execution_count": null,
   "metadata": {},
   "outputs": [],
   "source": [
    "# Voting\n",
    "print(sp.vote('Burhan'))\n",
    "print(sp.vote('Jamal'))\n",
    "print(sp.vote('Reinhard'))\n",
    "print(sp.vote('Burhan'))\n",
    "\n",
    "# Voting yang salah\n",
    "print(sp.vote('Taufik'))\n",
    "\n",
    "# Print hasil voting\n",
    "print(sp.querry())"
   ]
  },
  {
   "cell_type": "markdown",
   "metadata": {},
   "source": [
    "## Unduh File"
   ]
  },
  {
   "cell_type": "code",
   "execution_count": null,
   "metadata": {},
   "outputs": [],
   "source": [
    "# import library\n",
    "import xmlrpc.client\n",
    "\n",
    "# Definisikan IP address dan port\n",
    "IP = 'localhost'\n",
    "PORT = 8000\n",
    "\n",
    "# Buat sebuah proxy untuk mengakses server\n",
    "sp = xmlrpc.client.ServerProxy(f'http://{IP}:{PORT}')\n",
    "\n",
    "# Print daftar method yang tersedia di server\n",
    "print(sp.system.listMethods())\n",
    "\n",
    "with open(\"hasil_download.txt\",\"wb\") as file:\n",
    "    # panggil method unduh() untuk mendownload file\n",
    "    file_diunduh = sp.unduh()\n",
    "    # rubah file_diunduh kembali ke binary dengan .data karena file.write hanya menerima binary\n",
    "    hasil_diunduh = file_diunduh.data\n",
    "    file.write(hasil_diunduh)\n",
    "\n",
    "print(\"Unduh file selesai\")"
   ]
  }
 ],
 "metadata": {
  "kernelspec": {
   "display_name": "Python 3",
   "language": "python",
   "name": "python3"
  },
  "language_info": {
   "codemirror_mode": {
    "name": "ipython",
    "version": 3
   },
   "file_extension": ".py",
   "mimetype": "text/x-python",
   "name": "python",
   "nbconvert_exporter": "python",
   "pygments_lexer": "ipython3",
   "version": "3.7.4"
  }
 },
 "nbformat": 4,
 "nbformat_minor": 2
}
