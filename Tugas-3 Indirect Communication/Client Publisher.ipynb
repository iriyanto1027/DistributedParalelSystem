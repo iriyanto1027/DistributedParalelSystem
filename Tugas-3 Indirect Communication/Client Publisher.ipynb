{
 "cells": [
  {
   "cell_type": "markdown",
   "metadata": {},
   "source": [
    "# Tugas-3 Client Publisher"
   ]
  },
  {
   "cell_type": "markdown",
   "metadata": {},
   "source": [
    "## Latihan-1 Publisher sederhana"
   ]
  },
  {
   "cell_type": "code",
   "execution_count": null,
   "metadata": {},
   "outputs": [],
   "source": [
    "# import paho mqtt\n",
    "import paho.mqtt.client as mqtt\n",
    "\n",
    "# import time untuk sleep()\n",
    "import time\n",
    "\n",
    "# import datetime untuk mendapatkan waktu dan tanggal\n",
    "import datetime\n",
    "\n",
    "# definisikan nama broker yang akan digunakan\n",
    "broker_address = \"localhost\"\n",
    "\n",
    "# buat client baru bernama P2\n",
    "print(\"Creating new instance\")\n",
    "client = mqtt.Client(\"P2\")\n",
    "\n",
    "#client.on_publish=on_publish\n",
    "\n",
    "# koneksi ke broker\n",
    "print(\"Connecting to broker\")\n",
    "client.connect(broker_address, port=1883)\n",
    "\n",
    "# mulai loop client\n",
    "client.loop_start()\n",
    "\n",
    "# lakukan 20x publish waktu dengan topik 1\n",
    "print(\"Publish something\")\n",
    "\n",
    "for i in range (20):\n",
    "    # sleep 1 detik\n",
    "    time.sleep(1)\n",
    "    \n",
    "    # publish waktu sekarang\n",
    "    client.publish(\"waktu\", f'{datetime.datetime.now()}')\n",
    "\n",
    "#stop loop\n",
    "client.loop_stop()"
   ]
  },
  {
   "cell_type": "markdown",
   "metadata": {},
   "source": [
    "## Latihan-2-3 Publisher"
   ]
  },
  {
   "cell_type": "code",
   "execution_count": null,
   "metadata": {},
   "outputs": [],
   "source": [
    "# import paho mqtt\n",
    "import paho.mqtt.client as mqtt\n",
    "\n",
    "# import time untuk sleep()\n",
    "import time\n",
    "\n",
    "# import datetime untuk mendapatkan waktu dan tanggal\n",
    "import datetime\n",
    "\n",
    "# definisikan nama broker yang akan digunakan\n",
    "broker_address = \"localhost\"\n",
    "\n",
    "# buat client baru bernama P2\n",
    "print(\"creating new instance\")\n",
    "client = mqtt.Client(\"P2\")\n",
    "\n",
    "# koneksi ke broker\n",
    "print(\"connecting to broker\")\n",
    "client.connect(broker_address, port=1883)\n",
    "\n",
    "# mulai loop client\n",
    "client.loop_start()\n",
    "\n",
    "# lakukan 20x publish topik 1\n",
    "print(\"publish something\")\n",
    "\n",
    "for i in range (20):\n",
    "    # sleep 1 detik\n",
    "    time.sleep(1)\n",
    "    \n",
    "    # publish waktu sekarang topik 1\n",
    "    client.publish(\"topik_1\", f'AAA {datetime.datetime.now()}')\n",
    "\n",
    "#stop loop\n",
    "client.loop_stop()"
   ]
  },
  {
   "cell_type": "code",
   "execution_count": null,
   "metadata": {},
   "outputs": [],
   "source": [
    "# import paho mqtt\n",
    "import paho.mqtt.client as mqtt\n",
    "\n",
    "# import time untuk sleep()\n",
    "import time\n",
    "\n",
    "# import datetime untuk mendapatkan waktu dan tanggal\n",
    "import datetime\n",
    "\n",
    "# definisikan nama broker yang akan digunakan\n",
    "broker_address = \"localhost\"\n",
    "\n",
    "# buat client baru bernama P3\n",
    "print(\"creating new instance\")\n",
    "client = mqtt.Client(\"P3\")\n",
    "\n",
    "# koneksi ke broker\n",
    "print(\"connecting to broker\")\n",
    "client.connect(broker_address, port=1883)\n",
    "\n",
    "# mulai loop client\n",
    "client.loop_start()\n",
    "\n",
    "# lakukan 20x publish topik 2\n",
    "print(\"publish something\")\n",
    "\n",
    "for i in range (20):\n",
    "    # sleep 1 detik\n",
    "    time.sleep(1)\n",
    "    \n",
    "    # publish waktu sekarang topik 2\n",
    "    client.publish(\"topik_2\", f'BBB {datetime.datetime.now()}')\n",
    "\n",
    "#stop loop\n",
    "client.loop_stop()"
   ]
  },
  {
   "cell_type": "markdown",
   "metadata": {},
   "source": [
    "## Latihan-4 Publisher"
   ]
  },
  {
   "cell_type": "code",
   "execution_count": null,
   "metadata": {},
   "outputs": [],
   "source": [
    "# import paho\n",
    "import paho.mqtt.client as mqtt\n",
    "\n",
    "# definsi broker yang digunakan\n",
    "broker_address = \"localhost\"\n",
    "\n",
    "# buat client bernama P1\n",
    "print(\"Creating new instance\")\n",
    "client = mqtt.Client(\"P1\")\n",
    "\n",
    "# client terkoneksi ke broker\n",
    "print(\"Connecting to broker\")\n",
    "client.connect(broker_address, port=1883)\n",
    "\n",
    "# print \"baca file\"\n",
    "print(\"Read file\")\n",
    "\n",
    "# buka file surf.jpg\n",
    "f = open(\"surf.jpg\", \"rb\")\n",
    "\n",
    "# baca semua isi file\n",
    "data = f.read()\n",
    "\n",
    "# ubah file dalam bentuk byte gunakan fungsi byte()\n",
    "data = data\n",
    "\n",
    "# publish dengan topik photo dan data dipublish adalah file\n",
    "print(\"Publish photo\")\n",
    "client.publish(\"photo\", data)\n",
    "\n",
    "# client loop mulai\n",
    "client.loop_start()\n",
    "\n",
    "# tutup file\n",
    "f.close()"
   ]
  }
 ],
 "metadata": {
  "kernelspec": {
   "display_name": "Python 3",
   "language": "python",
   "name": "python3"
  },
  "language_info": {
   "codemirror_mode": {
    "name": "ipython",
    "version": 3
   },
   "file_extension": ".py",
   "mimetype": "text/x-python",
   "name": "python",
   "nbconvert_exporter": "python",
   "pygments_lexer": "ipython3",
   "version": "3.7.3"
  }
 },
 "nbformat": 4,
 "nbformat_minor": 2
}
