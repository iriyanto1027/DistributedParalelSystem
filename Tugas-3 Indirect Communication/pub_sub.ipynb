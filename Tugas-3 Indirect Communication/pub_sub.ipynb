{
 "cells": [
  {
   "cell_type": "code",
   "execution_count": 2,
   "metadata": {},
   "outputs": [
    {
     "name": "stdout",
     "output_type": "stream",
     "text": [
      "creating new instance\n",
      "connecting to broker\n",
      "Subscribing to topic house/bulbs/bulb1\n",
      "Publishing message to topic house/bulbs/bulb1\n",
      "message received  OFF\n"
     ]
    }
   ],
   "source": [
    "# gunakan library paho mqtt\n",
    "import paho.mqtt.client as mqtt\n",
    "\n",
    "# library untuk sleep\n",
    "import time\n",
    "\n",
    "# callback: fungsi yang akan dipanggil jika message di buffer\n",
    "############\n",
    "def on_message(client, userdata, message):\n",
    "    print(\"message received \" ,str(message.payload.decode(\"utf-8\")))\n",
    "    #print(\"message topic=\",message.topic)\n",
    "    #print(\"message qos=\",message.qos)\n",
    "    #print(\"message retain flag=\",message.retain)\n",
    "########################################\n",
    "    \n",
    "# alamat broker yang akan digunakan    \n",
    "broker_address=\"localhost\"\n",
    "#broker_address=\"iot.eclipse.org\"\n",
    "\n",
    "# buat client bernama P1\n",
    "print(\"creating new instance\")\n",
    "client = mqtt.Client(\"P1\")\n",
    "\n",
    "# pada client dikaitkan callback function\n",
    "client.on_message=on_message\n",
    "\n",
    "# client terkoneksi dengan broker\n",
    "print(\"connecting to broker\")\n",
    "client.connect(broker_address, port=1883)\n",
    "\n",
    "# client P1 mulai\n",
    "client.loop_start()\n",
    "\n",
    "# client P1 subscribe ke topik \"house/bulbs/bulb1\"\n",
    "# P1 <- broker\n",
    "print(\"Subscribing to topic\",\"house/bulbs/bulb1\")\n",
    "client.subscribe(\"house/bulbs/bulb1\")\n",
    "\n",
    "# client P1 publish ke broker dengan topik \"house/bulbs/bulb1\"\n",
    "# P1 -> broker\n",
    "print(\"Publishing message to topic\",\"house/bulbs/bulb1\")\n",
    "client.publish(\"house/bulbs/bulb1\",\"OFF\")\n",
    "\n",
    "time.sleep(1)\n",
    "client.loop_stop()"
   ]
  }
 ],
 "metadata": {
  "kernelspec": {
   "display_name": "Python 3",
   "language": "python",
   "name": "python3"
  },
  "language_info": {
   "codemirror_mode": {
    "name": "ipython",
    "version": 3
   },
   "file_extension": ".py",
   "mimetype": "text/x-python",
   "name": "python",
   "nbconvert_exporter": "python",
   "pygments_lexer": "ipython3",
   "version": "3.7.3"
  }
 },
 "nbformat": 4,
 "nbformat_minor": 2
}
